{
 "cells": [
  {
   "cell_type": "code",
   "execution_count": null,
   "id": "a7b22e01",
   "metadata": {},
   "outputs": [],
   "source": [
    "import mysql.connector"
   ]
  },
  {
   "cell_type": "code",
   "execution_count": null,
   "id": "f06b0cdf",
   "metadata": {},
   "outputs": [],
   "source": [
    "# Detalles de la conexión\n",
    "config = {\n",
    "    'user': 'admin2023',\n",
    "    'password': 'P@$$w0rd',\n",
    "    'host': 'mysql-android.mysql.database.azure.com',\n",
    "    'database': 'bd_sist_int',\n",
    "    'raise_on_warnings': True\n",
    "}"
   ]
  },
  {
   "cell_type": "code",
   "execution_count": null,
   "id": "93bc2cb7",
   "metadata": {},
   "outputs": [],
   "source": [
    "# Crear la conexión\n",
    "cnx = mysql.connector.connect(**config)\n"
   ]
  },
  {
   "cell_type": "code",
   "execution_count": null,
   "id": "87827fbb",
   "metadata": {},
   "outputs": [],
   "source": [
    "# Crear un cursor\n",
    "cursor = cnx.cursor()\n"
   ]
  },
  {
   "cell_type": "code",
   "execution_count": null,
   "id": "0990b6e5",
   "metadata": {},
   "outputs": [],
   "source": [
    "# Ejecutar una consulta SQL\n",
    "query = \"SELECT * FROM cliente\"\n",
    "cursor.execute(query)\n",
    "\n",
    "# Obtener los resultados\n",
    "results = cursor.fetchall()\n",
    "\n",
    "# Mostrar los resultados\n",
    "for row in results:\n",
    "    print(row)\n"
   ]
  },
  {
   "cell_type": "code",
   "execution_count": null,
   "id": "0921c9e7",
   "metadata": {},
   "outputs": [],
   "source": [
    "# Cerrar el cursor y la conexión\n",
    "cursor.close()\n",
    "cnx.close()"
   ]
  },
  {
   "cell_type": "code",
   "execution_count": null,
   "id": "4e53544c",
   "metadata": {},
   "outputs": [],
   "source": []
  },
  {
   "cell_type": "code",
   "execution_count": null,
   "id": "59804834",
   "metadata": {},
   "outputs": [],
   "source": []
  },
  {
   "cell_type": "code",
   "execution_count": null,
   "id": "d79ac7e8",
   "metadata": {},
   "outputs": [],
   "source": [
    "import ipywidgets as widgets\n",
    "from IPython.display import display\n",
    "\n",
    "# Crear un widget de botón\n",
    "button = widgets.Button(description=\"Haz clic\")\n",
    "\n",
    "# Definir una función de manejo de eventos para el botón\n",
    "def on_button_clicked(b):\n",
    "    print(\"¡Haz hecho clic en el botón!\")\n",
    "\n",
    "# Asociar la función de manejo de eventos al evento on_click del botón\n",
    "button.on_click(on_button_clicked)\n",
    "\n",
    "# Mostrar el botón\n",
    "display(button)"
   ]
  },
  {
   "cell_type": "code",
   "execution_count": null,
   "id": "126d1500",
   "metadata": {},
   "outputs": [],
   "source": [
    "import matplotlib.pyplot as plt\n",
    "\n",
    "# Crear un gráfico interactivo con barras deslizantes\n",
    "x = [1, 2, 3, 4, 5]\n",
    "y = [10, 20, 30, 40, 50]\n",
    "\n",
    "fig, ax = plt.subplots()\n",
    "bar_plot = ax.bar(x, y)\n",
    "\n",
    "# Definir una función de manejo de eventos para actualizar el gráfico\n",
    "def update_chart(value):\n",
    "    for i, rect in enumerate(bar_plot):\n",
    "        rect.set_height((i + 1) * value)\n",
    "    fig.canvas.draw()\n",
    "\n",
    "# Crear un widget de barras deslizantes\n",
    "slider = widgets.FloatSlider(min=0.5, max=2.0, step=0.1, value=1.0, description=\"Factor\")\n",
    "\n",
    "# Asociar la función de manejo de eventos al evento de cambio de valor del slider\n",
    "widgets.interact(update_chart, value=slider)\n",
    "\n",
    "# Mostrar el gráfico y el slider\n",
    "plt.show()"
   ]
  },
  {
   "cell_type": "code",
   "execution_count": null,
   "id": "460552f2",
   "metadata": {},
   "outputs": [],
   "source": [
    "import pandas as pd\n",
    "\n",
    "# Crear un DataFrame de ejemplo\n",
    "data = {\n",
    "    'Nombre': ['Ana', 'Juan', 'María', 'Pedro'],\n",
    "    'Edad': [25, 30, 28, 35],\n",
    "    'Profesión': ['Ingeniero', 'Abogado', 'Médico', 'Profesor']\n",
    "}\n",
    "\n",
    "df = pd.DataFrame(data)\n",
    "\n",
    "# Mostrar el DataFrame y permitir la selección interactiva de filas\n",
    "selection = widgets.SelectMultiple(\n",
    "    options=df['Nombre'],\n",
    "    description='Selecciona:',\n",
    "    rows=len(df),\n",
    "    disabled=False\n",
    ")\n",
    "\n",
    "def on_selection_change(change):\n",
    "    selected_rows = df.loc[df['Nombre'].isin(change['new'])]\n",
    "    print(selected_rows)\n",
    "\n",
    "selection.observe(on_selection_change, names='value')\n",
    "\n",
    "display(selection)"
   ]
  },
  {
   "cell_type": "code",
   "execution_count": null,
   "id": "02438dd0",
   "metadata": {},
   "outputs": [],
   "source": []
  }
 ],
 "metadata": {
  "kernelspec": {
   "display_name": "Python 3 (ipykernel)",
   "language": "python",
   "name": "python3"
  },
  "language_info": {
   "codemirror_mode": {
    "name": "ipython",
    "version": 3
   },
   "file_extension": ".py",
   "mimetype": "text/x-python",
   "name": "python",
   "nbconvert_exporter": "python",
   "pygments_lexer": "ipython3",
   "version": "3.10.9"
  }
 },
 "nbformat": 4,
 "nbformat_minor": 5
}
