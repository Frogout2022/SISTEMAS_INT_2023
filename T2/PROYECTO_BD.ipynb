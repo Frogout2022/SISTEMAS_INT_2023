{
 "cells": [
  {
   "cell_type": "code",
   "execution_count": 1,
   "id": "c7ece9d5",
   "metadata": {},
   "outputs": [],
   "source": [
    "import mysql.connector"
   ]
  },
  {
   "cell_type": "code",
   "execution_count": 2,
   "id": "111bcbc5",
   "metadata": {},
   "outputs": [],
   "source": [
    "# Detalles de la conexión\n",
    "config = {\n",
    "    'user': 'admin2023',\n",
    "    'password': 'P@$$w0rd',\n",
    "    'host': 'mysql-android.mysql.database.azure.com',\n",
    "    'database': 'bd_sist_int',\n",
    "    'raise_on_warnings': True\n",
    "}"
   ]
  },
  {
   "cell_type": "code",
   "execution_count": 3,
   "id": "f53ba796",
   "metadata": {},
   "outputs": [],
   "source": [
    "# Crear la conexión\n",
    "cnx = mysql.connector.connect(**config)\n"
   ]
  },
  {
   "cell_type": "code",
   "execution_count": 4,
   "id": "0e8ee655",
   "metadata": {},
   "outputs": [],
   "source": [
    "# Crear un cursor\n",
    "cursor = cnx.cursor()\n"
   ]
  },
  {
   "cell_type": "code",
   "execution_count": 5,
   "id": "fb60e5b8",
   "metadata": {},
   "outputs": [
    {
     "name": "stdout",
     "output_type": "stream",
     "text": [
      "(1, 'MILHOS KASSIAN SIHUAY BARZOLA', 'Joaquin Capello 2486', None, 'mi@g.com', '123456', 'Lima')\n",
      "(2, 'EMERSON GERARDO CAHUANA PEREZ PALMA', 'Direccion3', None, 'ge@g.com', '123456', 'Lima')\n"
     ]
    }
   ],
   "source": [
    "# Ejecutar una consulta SQL\n",
    "query = \"SELECT * FROM cliente\"\n",
    "cursor.execute(query)\n",
    "\n",
    "# Obtener los resultados\n",
    "results = cursor.fetchall()\n",
    "\n",
    "# Mostrar los resultados\n",
    "for row in results:\n",
    "    print(row)\n"
   ]
  },
  {
   "cell_type": "code",
   "execution_count": 6,
   "id": "eab73c3f",
   "metadata": {},
   "outputs": [],
   "source": [
    "# Cerrar el cursor y la conexión\n",
    "cursor.close()\n",
    "cnx.close()"
   ]
  },
  {
   "cell_type": "code",
   "execution_count": null,
   "id": "81054269",
   "metadata": {},
   "outputs": [],
   "source": []
  }
 ],
 "metadata": {
  "kernelspec": {
   "display_name": "Python 3 (ipykernel)",
   "language": "python",
   "name": "python3"
  },
  "language_info": {
   "codemirror_mode": {
    "name": "ipython",
    "version": 3
   },
   "file_extension": ".py",
   "mimetype": "text/x-python",
   "name": "python",
   "nbconvert_exporter": "python",
   "pygments_lexer": "ipython3",
   "version": "3.10.9"
  }
 },
 "nbformat": 4,
 "nbformat_minor": 5
}
