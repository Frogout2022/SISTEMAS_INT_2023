{
 "cells": [
  {
   "cell_type": "code",
   "execution_count": 1,
   "id": "b11f0df5",
   "metadata": {},
   "outputs": [],
   "source": [
    "import mysql.connector"
   ]
  },
  {
   "cell_type": "code",
   "execution_count": 2,
   "id": "2405dfc7",
   "metadata": {},
   "outputs": [],
   "source": [
    "# Detalles de la conexión\n",
    "config = {\n",
    "    'user': 'admin2023',\n",
    "    'password': 'P@$$w0rd',\n",
    "    'host': 'mysql-android.mysql.database.azure.com',\n",
    "    'database': 'bd_sist_int',\n",
    "    'raise_on_warnings': True\n",
    "}"
   ]
  },
  {
   "cell_type": "code",
   "execution_count": 3,
   "id": "88ca5484",
   "metadata": {},
   "outputs": [],
   "source": [
    "# Crear la conexión\n",
    "cnx = mysql.connector.connect(**config)\n"
   ]
  },
  {
   "cell_type": "code",
   "execution_count": 4,
   "id": "fbed5775",
   "metadata": {},
   "outputs": [],
   "source": [
    "# Crear un cursor\n",
    "cursor = cnx.cursor()\n"
   ]
  },
  {
   "cell_type": "code",
   "execution_count": 5,
   "id": "82d7c04b",
   "metadata": {},
   "outputs": [
    {
     "name": "stdout",
     "output_type": "stream",
     "text": [
      "(1, 'MILHOS KASSIAN SIHUAY BARZOLA', 'Joaquin Capello 2486', None, 'mi@g.com', '123456', 'Lima')\n",
      "(2, 'EMERSON GERARDO CAHUANA PEREZ PALMA', 'Direccion3', None, 'ge@g.com', '123456', 'Lima')\n"
     ]
    }
   ],
   "source": [
    "# Ejecutar una consulta SQL\n",
    "query = \"SELECT * FROM cliente\"\n",
    "cursor.execute(query)\n",
    "\n",
    "# Obtener los resultados\n",
    "results = cursor.fetchall()\n",
    "\n",
    "# Mostrar los resultados\n",
    "for row in results:\n",
    "    print(row)\n"
   ]
  },
  {
   "cell_type": "code",
   "execution_count": 6,
   "id": "4ad77462",
   "metadata": {},
   "outputs": [],
   "source": [
    "# Cerrar el cursor y la conexión\n",
    "cursor.close()\n",
    "cnx.close()"
   ]
  },
  {
   "cell_type": "code",
   "execution_count": null,
   "id": "77be5137",
   "metadata": {},
   "outputs": [],
   "source": [
    "# Función para ejecutar una consulta y obtener los resultados\n",
    "def ejecutar_consulta(query):\n",
    "  cursor = cnx.cursor()\n",
    "  cursor.execute(query)\n",
    "  results = cursor.fetchall()\n",
    "  cursor.close()\n",
    "  return results\n",
    "\n",
    "# Función para ejecutar una consulta sin resultados (INSERT, UPDATE, DELETE)\n",
    "def ejecutar_consulta_sin_resultados(query):\n",
    "  cursor = cnx.cursor()\n",
    "  cursor.execute(query)\n",
    "  cnx.commit()\n",
    "  cursor.close()\n",
    "\n",
    "# Ejemplo de uso: Listar empleados\n",
    "query = \"CALL ListarEmpleados();\"\n",
    "empleados = ejecutar_consulta(query)\n",
    "for empleado in empleados:\n",
    "  print(empleado)\n",
    "\n",
    "# Ejemplo de uso: Insertar empleado\n",
    "query = \"CALL InsertarEmpleado('Carlos', 32, 2200);\"\n",
    "ejecutar_consulta_sin_resultados(query)\n",
    "\n",
    "# Ejemplo de uso: Actualizar empleado\n",
    "query = \"CALL ActualizarEmpleado(1, 'Juan Pérez', 31, 2600);\"\n",
    "ejecutar_consulta_sin_resultados(query)\n",
    "\n",
    "# Ejemplo de uso: Eliminar empleado\n",
    "query = \"CALL EliminarEmpleado(3);\"\n",
    "ejecutar_consulta_sin_resultados(query)\n",
    "\n",
    "# Cerrar la conexión\n",
    "cnx.close()"
   ]
  }
 ],
 "metadata": {
  "kernelspec": {
   "display_name": "Python 3 (ipykernel)",
   "language": "python",
   "name": "python3"
  },
  "language_info": {
   "codemirror_mode": {
    "name": "ipython",
    "version": 3
   },
   "file_extension": ".py",
   "mimetype": "text/x-python",
   "name": "python",
   "nbconvert_exporter": "python",
   "pygments_lexer": "ipython3",
   "version": "3.10.9"
  }
 },
 "nbformat": 4,
 "nbformat_minor": 5
}
