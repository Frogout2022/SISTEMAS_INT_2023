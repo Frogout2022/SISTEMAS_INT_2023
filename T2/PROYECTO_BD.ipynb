{
 "cells": [
  {
   "cell_type": "code",
   "execution_count": 1,
   "id": "a7b22e01",
   "metadata": {},
   "outputs": [],
   "source": [
    "import mysql.connector"
   ]
  },
  {
   "cell_type": "code",
   "execution_count": 2,
   "id": "f06b0cdf",
   "metadata": {},
   "outputs": [],
   "source": [
    "# Detalles de la conexión\n",
    "config = {\n",
    "    'user': 'admin2023',\n",
    "    'password': 'P@$$w0rd',\n",
    "    'host': 'mysql-android.mysql.database.azure.com',\n",
    "    'database': 'bd_sist_int',\n",
    "    'raise_on_warnings': True\n",
    "}"
   ]
  },
  {
   "cell_type": "code",
   "execution_count": 3,
   "id": "93bc2cb7",
   "metadata": {},
   "outputs": [],
   "source": [
    "# Crear la conexión\n",
    "cnx = mysql.connector.connect(**config)\n"
   ]
  },
  {
   "cell_type": "code",
   "execution_count": 4,
   "id": "87827fbb",
   "metadata": {},
   "outputs": [],
   "source": [
    "# Crear un cursor\n",
    "cursor = cnx.cursor()\n"
   ]
  },
  {
   "cell_type": "code",
   "execution_count": 5,
   "id": "0990b6e5",
   "metadata": {},
   "outputs": [
    {
     "name": "stdout",
     "output_type": "stream",
     "text": [
      "(1, 'MILHOS KASSIAN SIHUAY BARZOLA', 'Joaquin Capello 2486', None, 'mi@g.com', '123456', 'Lima')\n",
      "(2, 'EMERSON GERARDO CAHUANA PEREZ PALMA', 'Direccion3', None, 'ge@g.com', '123456', 'Lima')\n"
     ]
    }
   ],
   "source": [
    "# Ejecutar una consulta SQL\n",
    "query = \"SELECT * FROM cliente\"\n",
    "cursor.execute(query)\n",
    "\n",
    "# Obtener los resultados\n",
    "results = cursor.fetchall()\n",
    "\n",
    "# Mostrar los resultados\n",
    "for row in results:\n",
    "    print(row)\n"
   ]
  },
  {
   "cell_type": "code",
   "execution_count": 6,
   "id": "0921c9e7",
   "metadata": {},
   "outputs": [],
   "source": [
    "# Cerrar el cursor y la conexión\n",
    "cursor.close()\n",
    "cnx.close()"
   ]
  },
  {
   "cell_type": "code",
   "execution_count": null,
   "id": "4e53544c",
   "metadata": {},
   "outputs": [],
   "source": [
    "# Función para ejecutar una consulta y obtener los resultados\n",
    "def ejecutar_consulta(query):\n",
    "  cursor = cnx.cursor()\n",
    "  cursor.execute(query)\n",
    "  results = cursor.fetchall()\n",
    "  cursor.close()\n",
    "  return results\n",
    "\n",
    "# Función para ejecutar una consulta sin resultados (INSERT, UPDATE, DELETE)\n",
    "def ejecutar_consulta_sin_resultados(query):\n",
    "  cursor = cnx.cursor()\n",
    "  cursor.execute(query)\n",
    "  cnx.commit()\n",
    "  cursor.close()\n",
    "\n",
    "# Ejemplo de uso: Listar empleados\n",
    "query = \"CALL ListarEmpleados();\"\n",
    "empleados = ejecutar_consulta(query)\n",
    "for empleado in empleados:\n",
    "  print(empleado)\n",
    "\n",
    "# Ejemplo de uso: Insertar empleado\n",
    "query = \"CALL InsertarEmpleado('Carlos', 32, 2200);\"\n",
    "ejecutar_consulta_sin_resultados(query)\n",
    "\n",
    "# Ejemplo de uso: Actualizar empleado\n",
    "query = \"CALL ActualizarEmpleado(1, 'Juan Pérez', 31, 2600);\"\n",
    "ejecutar_consulta_sin_resultados(query)\n",
    "\n",
    "# Ejemplo de uso: Eliminar empleado\n",
    "query = \"CALL EliminarEmpleado(3);\"\n",
    "ejecutar_consulta_sin_resultados(query)\n",
    "\n",
    "# Cerrar la conexión\n",
    "cnx.close()"
   ]
  },
  {
   "cell_type": "code",
   "execution_count": 7,
   "id": "59804834",
   "metadata": {},
   "outputs": [
    {
     "name": "stdout",
     "output_type": "stream",
     "text": [
      "Por favor, ingresa tu nombre: Milhos\n",
      "Hola, Milhos ¡Bienvenido!\n"
     ]
    }
   ],
   "source": [
    "# Solicitar el nombre al usuario\n",
    "nombre = input(\"Por favor, ingresa tu nombre: \")\n",
    "\n",
    "# Mostrar un mensaje utilizando el nombre ingresado\n",
    "print(\"Hola,\", nombre, \"¡Bienvenido!\")"
   ]
  },
  {
   "cell_type": "code",
   "execution_count": 11,
   "id": "d79ac7e8",
   "metadata": {},
   "outputs": [
    {
     "data": {
      "application/vnd.jupyter.widget-view+json": {
       "model_id": "abd217da639f41f285a911c62be3f89a",
       "version_major": 2,
       "version_minor": 0
      },
      "text/plain": [
       "Button(description='Haz clic', style=ButtonStyle())"
      ]
     },
     "metadata": {},
     "output_type": "display_data"
    },
    {
     "name": "stdout",
     "output_type": "stream",
     "text": [
      "¡Haz hecho clic en el botón!\n",
      "¡Haz hecho clic en el botón!\n",
      "¡Haz hecho clic en el botón!\n",
      "¡Haz hecho clic en el botón!\n",
      "¡Haz hecho clic en el botón!\n",
      "¡Haz hecho clic en el botón!\n",
      "¡Haz hecho clic en el botón!\n"
     ]
    }
   ],
   "source": [
    "import ipywidgets as widgets\n",
    "from IPython.display import display\n",
    "\n",
    "# Crear un widget de botón\n",
    "button = widgets.Button(description=\"Haz clic\")\n",
    "\n",
    "# Definir una función de manejo de eventos para el botón\n",
    "def on_button_clicked(b):\n",
    "    print(\"¡Haz hecho clic en el botón!\")\n",
    "\n",
    "# Asociar la función de manejo de eventos al evento on_click del botón\n",
    "button.on_click(on_button_clicked)\n",
    "\n",
    "# Mostrar el botón\n",
    "display(button)"
   ]
  },
  {
   "cell_type": "code",
   "execution_count": 12,
   "id": "126d1500",
   "metadata": {},
   "outputs": [
    {
     "data": {
      "image/png": "[encoded data removed]",
      "text/plain": [
       "<Figure size 640x480 with 1 Axes>"
      ]
     },
     "metadata": {},
     "output_type": "display_data"
    },
    {
     "data": {
      "application/vnd.jupyter.widget-view+json": {
       "model_id": "d29645e9a58041258f01a32ff4ddd664",
       "version_major": 2,
       "version_minor": 0
      },
      "text/plain": [
       "interactive(children=(FloatSlider(value=1.0, description='Factor', max=2.0, min=0.5), Output()), _dom_classes=…"
      ]
     },
     "metadata": {},
     "output_type": "display_data"
    }
   ],
   "source": [
    "import matplotlib.pyplot as plt\n",
    "\n",
    "# Crear un gráfico interactivo con barras deslizantes\n",
    "x = [1, 2, 3, 4, 5]\n",
    "y = [10, 20, 30, 40, 50]\n",
    "\n",
    "fig, ax = plt.subplots()\n",
    "bar_plot = ax.bar(x, y)\n",
    "\n",
    "# Definir una función de manejo de eventos para actualizar el gráfico\n",
    "def update_chart(value):\n",
    "    for i, rect in enumerate(bar_plot):\n",
    "        rect.set_height((i + 1) * value)\n",
    "    fig.canvas.draw()\n",
    "\n",
    "# Crear un widget de barras deslizantes\n",
    "slider = widgets.FloatSlider(min=0.5, max=2.0, step=0.1, value=1.0, description=\"Factor\")\n",
    "\n",
    "# Asociar la función de manejo de eventos al evento de cambio de valor del slider\n",
    "widgets.interact(update_chart, value=slider)\n",
    "\n",
    "# Mostrar el gráfico y el slider\n",
    "plt.show()"
   ]
  },
  {
   "cell_type": "code",
   "execution_count": 13,
   "id": "460552f2",
   "metadata": {},
   "outputs": [
    {
     "data": {
      "application/vnd.jupyter.widget-view+json": {
       "model_id": "e87e6c30ccff4934ab370a6c9b5c3a48",
       "version_major": 2,
       "version_minor": 0
      },
      "text/plain": [
       "SelectMultiple(description='Selecciona:', options=('Ana', 'Juan', 'María', 'Pedro'), rows=4, value=())"
      ]
     },
     "metadata": {},
     "output_type": "display_data"
    },
    {
     "name": "stdout",
     "output_type": "stream",
     "text": [
      "  Nombre  Edad  Profesión\n",
      "0    Ana    25  Ingeniero\n",
      "  Nombre  Edad Profesión\n",
      "1   Juan    30   Abogado\n",
      "  Nombre  Edad Profesión\n",
      "2  María    28    Médico\n",
      "  Nombre  Edad Profesión\n",
      "3  Pedro    35  Profesor\n"
     ]
    }
   ],
   "source": [
    "import pandas as pd\n",
    "\n",
    "# Crear un DataFrame de ejemplo\n",
    "data = {\n",
    "    'Nombre': ['Ana', 'Juan', 'María', 'Pedro'],\n",
    "    'Edad': [25, 30, 28, 35],\n",
    "    'Profesión': ['Ingeniero', 'Abogado', 'Médico', 'Profesor']\n",
    "}\n",
    "\n",
    "df = pd.DataFrame(data)\n",
    "\n",
    "# Mostrar el DataFrame y permitir la selección interactiva de filas\n",
    "selection = widgets.SelectMultiple(\n",
    "    options=df['Nombre'],\n",
    "    description='Selecciona:',\n",
    "    rows=len(df),\n",
    "    disabled=False\n",
    ")\n",
    "\n",
    "def on_selection_change(change):\n",
    "    selected_rows = df.loc[df['Nombre'].isin(change['new'])]\n",
    "    print(selected_rows)\n",
    "\n",
    "selection.observe(on_selection_change, names='value')\n",
    "\n",
    "display(selection)"
   ]
  },
  {
   "cell_type": "code",
   "execution_count": null,
   "id": "02438dd0",
   "metadata": {},
   "outputs": [],
   "source": []
  }
 ],
 "metadata": {
  "kernelspec": {
   "display_name": "Python 3 (ipykernel)",
   "language": "python",
   "name": "python3"
  },
  "language_info": {
   "codemirror_mode": {
    "name": "ipython",
    "version": 3
   },
   "file_extension": ".py",
   "mimetype": "text/x-python",
   "name": "python",
   "nbconvert_exporter": "python",
   "pygments_lexer": "ipython3",
   "version": "3.10.9"
  }
 },
 "nbformat": 4,
 "nbformat_minor": 5
}
